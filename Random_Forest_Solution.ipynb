{
  "nbformat": 4,
  "nbformat_minor": 0,
  "metadata": {
    "colab": {
      "provenance": [],
      "collapsed_sections": [
        "52f3dhaxXO4q"
      ]
    },
    "kernelspec": {
      "name": "python3",
      "display_name": "Python 3"
    },
    "language_info": {
      "name": "python"
    }
  },
  "cells": [
    {
      "cell_type": "markdown",
      "source": [
        "# Подготовка"
      ],
      "metadata": {
        "id": "zD16vhAVVfOf"
      }
    },
    {
      "cell_type": "markdown",
      "source": [
        "## Загружаем библиотеки, читаем данные"
      ],
      "metadata": {
        "id": "_pbScwBLV5sI"
      }
    },
    {
      "cell_type": "code",
      "execution_count": 2,
      "metadata": {
        "id": "bzHOaKq6UnQl",
        "colab": {
          "base_uri": "https://localhost:8080/"
        },
        "outputId": "f42f9d22-8dd0-414a-b65f-37c67de616a1"
      },
      "outputs": [
        {
          "output_type": "stream",
          "name": "stdout",
          "text": [
            "Populating the interactive namespace from numpy and matplotlib\n"
          ]
        },
        {
          "output_type": "stream",
          "name": "stderr",
          "text": [
            "/usr/local/lib/python3.7/dist-packages/IPython/core/magics/pylab.py:160: UserWarning: pylab import has clobbered these variables: ['datetime']\n",
            "`%matplotlib` prevents importing * from pylab and numpy\n",
            "  \"\\n`%matplotlib` prevents importing * from pylab and numpy\"\n"
          ]
        }
      ],
      "source": [
        "import pandas as pd\n",
        "import seaborn as sns\n",
        "import matplotlib.pyplot as plt\n",
        "from sklearn.model_selection import train_test_split\n",
        "from sklearn.ensemble import RandomForestClassifier\n",
        "\n",
        "from sklearn import model_selection\n",
        "import numpy as np\n",
        "from datetime import datetime\n",
        "from sklearn import preprocessing\n",
        "\n",
        "%pylab inline"
      ]
    },
    {
      "cell_type": "code",
      "source": [
        "df = pd.read_csv(\"/content/train_dataset_train.csv\")"
      ],
      "metadata": {
        "id": "KAgt8S0rUuce"
      },
      "execution_count": 3,
      "outputs": []
    },
    {
      "cell_type": "code",
      "source": [
        "df.sort_index(axis=1, inplace = True)\n",
        "df.head(1)"
      ],
      "metadata": {
        "colab": {
          "base_uri": "https://localhost:8080/",
          "height": 209
        },
        "id": "-45-ZH2jVXYm",
        "outputId": "a3ad18fb-4d6a-4610-94c0-238625aba807"
      },
      "execution_count": 4,
      "outputs": [
        {
          "output_type": "execute_result",
          "data": {
            "text/plain": [
              "                                                .geo  area  crop    id  \\\n",
              "0  {\"type\":\"Polygon\",\"coordinates\":[[[42.49107269...    20     3  3536   \n",
              "\n",
              "   nd_mean_2021-04-15  nd_mean_2021-04-16  nd_mean_2021-04-18  \\\n",
              "0             0.18715            0.072846              0.2623   \n",
              "\n",
              "   nd_mean_2021-04-19  nd_mean_2021-04-20  nd_mean_2021-04-22  ...  \\\n",
              "0            0.261778            0.063134            0.062981  ...   \n",
              "\n",
              "   nd_mean_2021-07-29  nd_mean_2021-07-31  nd_mean_2021-08-01  \\\n",
              "0            0.727516                 0.0            0.754859   \n",
              "\n",
              "   nd_mean_2021-08-07  nd_mean_2021-08-10  nd_mean_2021-08-11  \\\n",
              "0                 0.0            0.030883                 0.0   \n",
              "\n",
              "   nd_mean_2021-08-12  nd_mean_2021-08-13  nd_mean_2021-08-23  \\\n",
              "0            0.658016            0.126832            0.034858   \n",
              "\n",
              "   nd_mean_2021-08-27  \n",
              "0             0.61477  \n",
              "\n",
              "[1 rows x 74 columns]"
            ],
            "text/html": [
              "\n",
              "  <div id=\"df-f92c59a5-71b3-4b43-b717-ffe513b117d7\">\n",
              "    <div class=\"colab-df-container\">\n",
              "      <div>\n",
              "<style scoped>\n",
              "    .dataframe tbody tr th:only-of-type {\n",
              "        vertical-align: middle;\n",
              "    }\n",
              "\n",
              "    .dataframe tbody tr th {\n",
              "        vertical-align: top;\n",
              "    }\n",
              "\n",
              "    .dataframe thead th {\n",
              "        text-align: right;\n",
              "    }\n",
              "</style>\n",
              "<table border=\"1\" class=\"dataframe\">\n",
              "  <thead>\n",
              "    <tr style=\"text-align: right;\">\n",
              "      <th></th>\n",
              "      <th>.geo</th>\n",
              "      <th>area</th>\n",
              "      <th>crop</th>\n",
              "      <th>id</th>\n",
              "      <th>nd_mean_2021-04-15</th>\n",
              "      <th>nd_mean_2021-04-16</th>\n",
              "      <th>nd_mean_2021-04-18</th>\n",
              "      <th>nd_mean_2021-04-19</th>\n",
              "      <th>nd_mean_2021-04-20</th>\n",
              "      <th>nd_mean_2021-04-22</th>\n",
              "      <th>...</th>\n",
              "      <th>nd_mean_2021-07-29</th>\n",
              "      <th>nd_mean_2021-07-31</th>\n",
              "      <th>nd_mean_2021-08-01</th>\n",
              "      <th>nd_mean_2021-08-07</th>\n",
              "      <th>nd_mean_2021-08-10</th>\n",
              "      <th>nd_mean_2021-08-11</th>\n",
              "      <th>nd_mean_2021-08-12</th>\n",
              "      <th>nd_mean_2021-08-13</th>\n",
              "      <th>nd_mean_2021-08-23</th>\n",
              "      <th>nd_mean_2021-08-27</th>\n",
              "    </tr>\n",
              "  </thead>\n",
              "  <tbody>\n",
              "    <tr>\n",
              "      <th>0</th>\n",
              "      <td>{\"type\":\"Polygon\",\"coordinates\":[[[42.49107269...</td>\n",
              "      <td>20</td>\n",
              "      <td>3</td>\n",
              "      <td>3536</td>\n",
              "      <td>0.18715</td>\n",
              "      <td>0.072846</td>\n",
              "      <td>0.2623</td>\n",
              "      <td>0.261778</td>\n",
              "      <td>0.063134</td>\n",
              "      <td>0.062981</td>\n",
              "      <td>...</td>\n",
              "      <td>0.727516</td>\n",
              "      <td>0.0</td>\n",
              "      <td>0.754859</td>\n",
              "      <td>0.0</td>\n",
              "      <td>0.030883</td>\n",
              "      <td>0.0</td>\n",
              "      <td>0.658016</td>\n",
              "      <td>0.126832</td>\n",
              "      <td>0.034858</td>\n",
              "      <td>0.61477</td>\n",
              "    </tr>\n",
              "  </tbody>\n",
              "</table>\n",
              "<p>1 rows × 74 columns</p>\n",
              "</div>\n",
              "      <button class=\"colab-df-convert\" onclick=\"convertToInteractive('df-f92c59a5-71b3-4b43-b717-ffe513b117d7')\"\n",
              "              title=\"Convert this dataframe to an interactive table.\"\n",
              "              style=\"display:none;\">\n",
              "        \n",
              "  <svg xmlns=\"http://www.w3.org/2000/svg\" height=\"24px\"viewBox=\"0 0 24 24\"\n",
              "       width=\"24px\">\n",
              "    <path d=\"M0 0h24v24H0V0z\" fill=\"none\"/>\n",
              "    <path d=\"M18.56 5.44l.94 2.06.94-2.06 2.06-.94-2.06-.94-.94-2.06-.94 2.06-2.06.94zm-11 1L8.5 8.5l.94-2.06 2.06-.94-2.06-.94L8.5 2.5l-.94 2.06-2.06.94zm10 10l.94 2.06.94-2.06 2.06-.94-2.06-.94-.94-2.06-.94 2.06-2.06.94z\"/><path d=\"M17.41 7.96l-1.37-1.37c-.4-.4-.92-.59-1.43-.59-.52 0-1.04.2-1.43.59L10.3 9.45l-7.72 7.72c-.78.78-.78 2.05 0 2.83L4 21.41c.39.39.9.59 1.41.59.51 0 1.02-.2 1.41-.59l7.78-7.78 2.81-2.81c.8-.78.8-2.07 0-2.86zM5.41 20L4 18.59l7.72-7.72 1.47 1.35L5.41 20z\"/>\n",
              "  </svg>\n",
              "      </button>\n",
              "      \n",
              "  <style>\n",
              "    .colab-df-container {\n",
              "      display:flex;\n",
              "      flex-wrap:wrap;\n",
              "      gap: 12px;\n",
              "    }\n",
              "\n",
              "    .colab-df-convert {\n",
              "      background-color: #E8F0FE;\n",
              "      border: none;\n",
              "      border-radius: 50%;\n",
              "      cursor: pointer;\n",
              "      display: none;\n",
              "      fill: #1967D2;\n",
              "      height: 32px;\n",
              "      padding: 0 0 0 0;\n",
              "      width: 32px;\n",
              "    }\n",
              "\n",
              "    .colab-df-convert:hover {\n",
              "      background-color: #E2EBFA;\n",
              "      box-shadow: 0px 1px 2px rgba(60, 64, 67, 0.3), 0px 1px 3px 1px rgba(60, 64, 67, 0.15);\n",
              "      fill: #174EA6;\n",
              "    }\n",
              "\n",
              "    [theme=dark] .colab-df-convert {\n",
              "      background-color: #3B4455;\n",
              "      fill: #D2E3FC;\n",
              "    }\n",
              "\n",
              "    [theme=dark] .colab-df-convert:hover {\n",
              "      background-color: #434B5C;\n",
              "      box-shadow: 0px 1px 3px 1px rgba(0, 0, 0, 0.15);\n",
              "      filter: drop-shadow(0px 1px 2px rgba(0, 0, 0, 0.3));\n",
              "      fill: #FFFFFF;\n",
              "    }\n",
              "  </style>\n",
              "\n",
              "      <script>\n",
              "        const buttonEl =\n",
              "          document.querySelector('#df-f92c59a5-71b3-4b43-b717-ffe513b117d7 button.colab-df-convert');\n",
              "        buttonEl.style.display =\n",
              "          google.colab.kernel.accessAllowed ? 'block' : 'none';\n",
              "\n",
              "        async function convertToInteractive(key) {\n",
              "          const element = document.querySelector('#df-f92c59a5-71b3-4b43-b717-ffe513b117d7');\n",
              "          const dataTable =\n",
              "            await google.colab.kernel.invokeFunction('convertToInteractive',\n",
              "                                                     [key], {});\n",
              "          if (!dataTable) return;\n",
              "\n",
              "          const docLinkHtml = 'Like what you see? Visit the ' +\n",
              "            '<a target=\"_blank\" href=https://colab.research.google.com/notebooks/data_table.ipynb>data table notebook</a>'\n",
              "            + ' to learn more about interactive tables.';\n",
              "          element.innerHTML = '';\n",
              "          dataTable['output_type'] = 'display_data';\n",
              "          await google.colab.output.renderOutput(dataTable, element);\n",
              "          const docLink = document.createElement('div');\n",
              "          docLink.innerHTML = docLinkHtml;\n",
              "          element.appendChild(docLink);\n",
              "        }\n",
              "      </script>\n",
              "    </div>\n",
              "  </div>\n",
              "  "
            ]
          },
          "metadata": {},
          "execution_count": 4
        }
      ]
    },
    {
      "cell_type": "markdown",
      "source": [
        "## Достаем координаты"
      ],
      "metadata": {
        "id": "bsCYTo9rWDMx"
      }
    },
    {
      "cell_type": "markdown",
      "source": [
        "Для простоты будем использовать 1 точку из границ поля"
      ],
      "metadata": {
        "id": "yRTfSINC3tt3"
      }
    },
    {
      "cell_type": "code",
      "source": [
        "# добавляем столбцы\n",
        "df['len'] = 0.0\n",
        "df['lot'] = 0.0"
      ],
      "metadata": {
        "id": "90RXDC7mWK_I"
      },
      "execution_count": 5,
      "outputs": []
    },
    {
      "cell_type": "code",
      "source": [
        "# Заполняем координаты\n",
        "for i in range(len(df)):\n",
        "  df['len'][i] = float(df['.geo'][i][df['.geo'][i].rfind('[')+1:df['.geo'][i].rfind(',')-1])\n",
        "  df['lot'][i] = float(df['.geo'][i][df['.geo'][i].rfind(',')+1:df['.geo'][i].rfind(']]]')-1])"
      ],
      "metadata": {
        "colab": {
          "base_uri": "https://localhost:8080/"
        },
        "id": "quDF2DDPWScn",
        "outputId": "2bf44f79-977a-4208-b188-8f66a8e61073"
      },
      "execution_count": 6,
      "outputs": [
        {
          "output_type": "stream",
          "name": "stderr",
          "text": [
            "/usr/local/lib/python3.7/dist-packages/ipykernel_launcher.py:3: SettingWithCopyWarning: \n",
            "A value is trying to be set on a copy of a slice from a DataFrame\n",
            "\n",
            "See the caveats in the documentation: https://pandas.pydata.org/pandas-docs/stable/user_guide/indexing.html#returning-a-view-versus-a-copy\n",
            "  This is separate from the ipykernel package so we can avoid doing imports until\n",
            "/usr/local/lib/python3.7/dist-packages/ipykernel_launcher.py:4: SettingWithCopyWarning: \n",
            "A value is trying to be set on a copy of a slice from a DataFrame\n",
            "\n",
            "See the caveats in the documentation: https://pandas.pydata.org/pandas-docs/stable/user_guide/indexing.html#returning-a-view-versus-a-copy\n",
            "  after removing the cwd from sys.path.\n"
          ]
        }
      ]
    },
    {
      "cell_type": "code",
      "source": [
        "df.head(1)"
      ],
      "metadata": {
        "colab": {
          "base_uri": "https://localhost:8080/",
          "height": 209
        },
        "id": "tXGEh0xoWymj",
        "outputId": "d6f003af-8961-48cb-a4c8-97aaff5d0eb8"
      },
      "execution_count": 7,
      "outputs": [
        {
          "output_type": "execute_result",
          "data": {
            "text/plain": [
              "                                                .geo  area  crop    id  \\\n",
              "0  {\"type\":\"Polygon\",\"coordinates\":[[[42.49107269...    20     3  3536   \n",
              "\n",
              "   nd_mean_2021-04-15  nd_mean_2021-04-16  nd_mean_2021-04-18  \\\n",
              "0             0.18715            0.072846              0.2623   \n",
              "\n",
              "   nd_mean_2021-04-19  nd_mean_2021-04-20  nd_mean_2021-04-22  ...  \\\n",
              "0            0.261778            0.063134            0.062981  ...   \n",
              "\n",
              "   nd_mean_2021-08-01  nd_mean_2021-08-07  nd_mean_2021-08-10  \\\n",
              "0            0.754859                 0.0            0.030883   \n",
              "\n",
              "   nd_mean_2021-08-11  nd_mean_2021-08-12  nd_mean_2021-08-13  \\\n",
              "0                 0.0            0.658016            0.126832   \n",
              "\n",
              "   nd_mean_2021-08-23  nd_mean_2021-08-27        len        lot  \n",
              "0            0.034858             0.61477  42.491073  51.414036  \n",
              "\n",
              "[1 rows x 76 columns]"
            ],
            "text/html": [
              "\n",
              "  <div id=\"df-1245a4a9-6678-4447-82ff-d51525dec272\">\n",
              "    <div class=\"colab-df-container\">\n",
              "      <div>\n",
              "<style scoped>\n",
              "    .dataframe tbody tr th:only-of-type {\n",
              "        vertical-align: middle;\n",
              "    }\n",
              "\n",
              "    .dataframe tbody tr th {\n",
              "        vertical-align: top;\n",
              "    }\n",
              "\n",
              "    .dataframe thead th {\n",
              "        text-align: right;\n",
              "    }\n",
              "</style>\n",
              "<table border=\"1\" class=\"dataframe\">\n",
              "  <thead>\n",
              "    <tr style=\"text-align: right;\">\n",
              "      <th></th>\n",
              "      <th>.geo</th>\n",
              "      <th>area</th>\n",
              "      <th>crop</th>\n",
              "      <th>id</th>\n",
              "      <th>nd_mean_2021-04-15</th>\n",
              "      <th>nd_mean_2021-04-16</th>\n",
              "      <th>nd_mean_2021-04-18</th>\n",
              "      <th>nd_mean_2021-04-19</th>\n",
              "      <th>nd_mean_2021-04-20</th>\n",
              "      <th>nd_mean_2021-04-22</th>\n",
              "      <th>...</th>\n",
              "      <th>nd_mean_2021-08-01</th>\n",
              "      <th>nd_mean_2021-08-07</th>\n",
              "      <th>nd_mean_2021-08-10</th>\n",
              "      <th>nd_mean_2021-08-11</th>\n",
              "      <th>nd_mean_2021-08-12</th>\n",
              "      <th>nd_mean_2021-08-13</th>\n",
              "      <th>nd_mean_2021-08-23</th>\n",
              "      <th>nd_mean_2021-08-27</th>\n",
              "      <th>len</th>\n",
              "      <th>lot</th>\n",
              "    </tr>\n",
              "  </thead>\n",
              "  <tbody>\n",
              "    <tr>\n",
              "      <th>0</th>\n",
              "      <td>{\"type\":\"Polygon\",\"coordinates\":[[[42.49107269...</td>\n",
              "      <td>20</td>\n",
              "      <td>3</td>\n",
              "      <td>3536</td>\n",
              "      <td>0.18715</td>\n",
              "      <td>0.072846</td>\n",
              "      <td>0.2623</td>\n",
              "      <td>0.261778</td>\n",
              "      <td>0.063134</td>\n",
              "      <td>0.062981</td>\n",
              "      <td>...</td>\n",
              "      <td>0.754859</td>\n",
              "      <td>0.0</td>\n",
              "      <td>0.030883</td>\n",
              "      <td>0.0</td>\n",
              "      <td>0.658016</td>\n",
              "      <td>0.126832</td>\n",
              "      <td>0.034858</td>\n",
              "      <td>0.61477</td>\n",
              "      <td>42.491073</td>\n",
              "      <td>51.414036</td>\n",
              "    </tr>\n",
              "  </tbody>\n",
              "</table>\n",
              "<p>1 rows × 76 columns</p>\n",
              "</div>\n",
              "      <button class=\"colab-df-convert\" onclick=\"convertToInteractive('df-1245a4a9-6678-4447-82ff-d51525dec272')\"\n",
              "              title=\"Convert this dataframe to an interactive table.\"\n",
              "              style=\"display:none;\">\n",
              "        \n",
              "  <svg xmlns=\"http://www.w3.org/2000/svg\" height=\"24px\"viewBox=\"0 0 24 24\"\n",
              "       width=\"24px\">\n",
              "    <path d=\"M0 0h24v24H0V0z\" fill=\"none\"/>\n",
              "    <path d=\"M18.56 5.44l.94 2.06.94-2.06 2.06-.94-2.06-.94-.94-2.06-.94 2.06-2.06.94zm-11 1L8.5 8.5l.94-2.06 2.06-.94-2.06-.94L8.5 2.5l-.94 2.06-2.06.94zm10 10l.94 2.06.94-2.06 2.06-.94-2.06-.94-.94-2.06-.94 2.06-2.06.94z\"/><path d=\"M17.41 7.96l-1.37-1.37c-.4-.4-.92-.59-1.43-.59-.52 0-1.04.2-1.43.59L10.3 9.45l-7.72 7.72c-.78.78-.78 2.05 0 2.83L4 21.41c.39.39.9.59 1.41.59.51 0 1.02-.2 1.41-.59l7.78-7.78 2.81-2.81c.8-.78.8-2.07 0-2.86zM5.41 20L4 18.59l7.72-7.72 1.47 1.35L5.41 20z\"/>\n",
              "  </svg>\n",
              "      </button>\n",
              "      \n",
              "  <style>\n",
              "    .colab-df-container {\n",
              "      display:flex;\n",
              "      flex-wrap:wrap;\n",
              "      gap: 12px;\n",
              "    }\n",
              "\n",
              "    .colab-df-convert {\n",
              "      background-color: #E8F0FE;\n",
              "      border: none;\n",
              "      border-radius: 50%;\n",
              "      cursor: pointer;\n",
              "      display: none;\n",
              "      fill: #1967D2;\n",
              "      height: 32px;\n",
              "      padding: 0 0 0 0;\n",
              "      width: 32px;\n",
              "    }\n",
              "\n",
              "    .colab-df-convert:hover {\n",
              "      background-color: #E2EBFA;\n",
              "      box-shadow: 0px 1px 2px rgba(60, 64, 67, 0.3), 0px 1px 3px 1px rgba(60, 64, 67, 0.15);\n",
              "      fill: #174EA6;\n",
              "    }\n",
              "\n",
              "    [theme=dark] .colab-df-convert {\n",
              "      background-color: #3B4455;\n",
              "      fill: #D2E3FC;\n",
              "    }\n",
              "\n",
              "    [theme=dark] .colab-df-convert:hover {\n",
              "      background-color: #434B5C;\n",
              "      box-shadow: 0px 1px 3px 1px rgba(0, 0, 0, 0.15);\n",
              "      filter: drop-shadow(0px 1px 2px rgba(0, 0, 0, 0.3));\n",
              "      fill: #FFFFFF;\n",
              "    }\n",
              "  </style>\n",
              "\n",
              "      <script>\n",
              "        const buttonEl =\n",
              "          document.querySelector('#df-1245a4a9-6678-4447-82ff-d51525dec272 button.colab-df-convert');\n",
              "        buttonEl.style.display =\n",
              "          google.colab.kernel.accessAllowed ? 'block' : 'none';\n",
              "\n",
              "        async function convertToInteractive(key) {\n",
              "          const element = document.querySelector('#df-1245a4a9-6678-4447-82ff-d51525dec272');\n",
              "          const dataTable =\n",
              "            await google.colab.kernel.invokeFunction('convertToInteractive',\n",
              "                                                     [key], {});\n",
              "          if (!dataTable) return;\n",
              "\n",
              "          const docLinkHtml = 'Like what you see? Visit the ' +\n",
              "            '<a target=\"_blank\" href=https://colab.research.google.com/notebooks/data_table.ipynb>data table notebook</a>'\n",
              "            + ' to learn more about interactive tables.';\n",
              "          element.innerHTML = '';\n",
              "          dataTable['output_type'] = 'display_data';\n",
              "          await google.colab.output.renderOutput(dataTable, element);\n",
              "          const docLink = document.createElement('div');\n",
              "          docLink.innerHTML = docLinkHtml;\n",
              "          element.appendChild(docLink);\n",
              "        }\n",
              "      </script>\n",
              "    </div>\n",
              "  </div>\n",
              "  "
            ]
          },
          "metadata": {},
          "execution_count": 7
        }
      ]
    },
    {
      "cell_type": "markdown",
      "source": [
        "# Разбиваем данные"
      ],
      "metadata": {
        "id": "2-zMtPGcWSAA"
      }
    },
    {
      "cell_type": "code",
      "source": [
        "TRAIN_SIZE = 0.7 # Разделение данных на обучающую и контрольную части в пропорции 70/30%\n",
        "\n",
        "y = df[['crop']]\n",
        "X = df.drop([\"id\",\".geo\", \"crop\"], axis = 1)\n",
        "\n",
        "X_train, X_test, y_train, y_test = train_test_split(X, y, train_size=TRAIN_SIZE, random_state=0)"
      ],
      "metadata": {
        "id": "V6DLzOIOYMdp"
      },
      "execution_count": 8,
      "outputs": []
    },
    {
      "cell_type": "markdown",
      "source": [
        "# Случайный лес"
      ],
      "metadata": {
        "id": "HrnxEKyCZy3L"
      }
    },
    {
      "cell_type": "markdown",
      "source": [
        "## Выбор гиперпараметров"
      ],
      "metadata": {
        "id": "52f3dhaxXO4q"
      }
    },
    {
      "cell_type": "code",
      "source": [
        "# Зависимость от кол-ва деревьев\n",
        "n_trees = [100] + list(range(200, 1000, 200))\n",
        "print(n_trees)\n",
        "scoring = []\n",
        "for n_tree in n_trees:\n",
        "    estimator = RandomForestClassifier(n_estimators = n_tree, max_features = 7, random_state=1) #max_features = int(np.sqrt(X.shape[1]))\n",
        "    score = model_selection.cross_val_score(estimator, X, ravel(y), cv = 10)    \n",
        "    scoring.append(score)\n",
        "    print(n_tree)\n",
        "scoring = np.asmatrix(scoring)"
      ],
      "metadata": {
        "colab": {
          "base_uri": "https://localhost:8080/"
        },
        "id": "-a6Ebv-ZaFrD",
        "outputId": "fc197a3e-00d3-4b5c-bf1f-ec9a9736d3ae"
      },
      "execution_count": 9,
      "outputs": [
        {
          "output_type": "stream",
          "name": "stdout",
          "text": [
            "[100, 200, 400, 600, 800]\n",
            "100\n",
            "200\n",
            "400\n",
            "600\n",
            "800\n"
          ]
        }
      ]
    },
    {
      "cell_type": "code",
      "source": [
        "scoring = np.asmatrix(scoring)"
      ],
      "metadata": {
        "id": "r-l7NrSeBAi7"
      },
      "execution_count": 10,
      "outputs": []
    },
    {
      "cell_type": "code",
      "source": [
        "pylab.plot(n_trees, scoring.mean(axis = 1), marker='.', label='RandomForest')\n",
        "pylab.grid(True)\n",
        "pylab.xlabel('n_trees')\n",
        "pylab.ylabel('score')\n",
        "pylab.title('Accuracy score')\n",
        "pylab.legend(loc='lower right')"
      ],
      "metadata": {
        "colab": {
          "base_uri": "https://localhost:8080/",
          "height": 313
        },
        "id": "--wIZ6wEb694",
        "outputId": "c1c6fa60-9ab0-4f68-8e5c-f3a1f0b5990e"
      },
      "execution_count": 11,
      "outputs": [
        {
          "output_type": "execute_result",
          "data": {
            "text/plain": [
              "<matplotlib.legend.Legend at 0x7f9f987c8cd0>"
            ]
          },
          "metadata": {},
          "execution_count": 11
        },
        {
          "output_type": "display_data",
          "data": {
            "text/plain": [
              "<Figure size 432x288 with 1 Axes>"
            ],
            "image/png": "[encoded data removed]"
          },
          "metadata": {
            "needs_background": "light"
          }
        }
      ]
    },
    {
      "cell_type": "code",
      "source": [
        "# Зависимость от кол-ва признаков\n",
        "n_features = [6] + list(range(7, 10, 1))\n",
        "print(n_features)\n",
        "y = ravel(y)\n",
        "scoring = []\n",
        "for n_f in n_features:\n",
        "    estimator = RandomForestClassifier(n_estimators = 250, max_features = n_f, random_state=1)\n",
        "    score = model_selection.cross_val_score(estimator, X, y, cv = 10)    \n",
        "    scoring.append(score)\n",
        "    print(n_f)\n",
        "scoring = np.asmatrix(scoring)"
      ],
      "metadata": {
        "id": "w1-GMFGLZ3Tk",
        "colab": {
          "base_uri": "https://localhost:8080/"
        },
        "outputId": "9a60071f-44a1-47af-8979-071600586f57"
      },
      "execution_count": 35,
      "outputs": [
        {
          "output_type": "stream",
          "name": "stdout",
          "text": [
            "[6, 7, 8, 9]\n",
            "6\n",
            "7\n",
            "8\n",
            "9\n"
          ]
        }
      ]
    },
    {
      "cell_type": "code",
      "source": [
        "pylab.plot(n_features, scoring.mean(axis = 1), marker='.', label='RandomForest')\n",
        "pylab.grid(True)\n",
        "pylab.xlabel('n_features')\n",
        "pylab.ylabel('score')\n",
        "pylab.title('Accuracy score')\n",
        "pylab.legend(loc='lower right')"
      ],
      "metadata": {
        "colab": {
          "base_uri": "https://localhost:8080/",
          "height": 313
        },
        "id": "pBB0fye2LAw1",
        "outputId": "245c9bea-689e-468b-9320-a0bebab84aac"
      },
      "execution_count": 36,
      "outputs": [
        {
          "output_type": "execute_result",
          "data": {
            "text/plain": [
              "<matplotlib.legend.Legend at 0x7f8ccd104c50>"
            ]
          },
          "metadata": {},
          "execution_count": 36
        },
        {
          "output_type": "display_data",
          "data": {
            "text/plain": [
              "<Figure size 432x288 with 1 Axes>"
            ],
            "image/png": "[encoded data removed]"
          },
          "metadata": {
            "needs_background": "light"
          }
        }
      ]
    },
    {
      "cell_type": "markdown",
      "source": [
        "## Обучение модели"
      ],
      "metadata": {
        "id": "QUlpBqknXa41"
      }
    },
    {
      "cell_type": "code",
      "source": [
        "estimator = RandomForestClassifier(n_estimators = 1000, max_features = 7, random_state=1)\n",
        "estimator.fit(X_train, y_train)"
      ],
      "metadata": {
        "colab": {
          "base_uri": "https://localhost:8080/"
        },
        "id": "xb7h8DH_Qmr5",
        "outputId": "c8977e23-d186-454d-9a8f-91b2c8e98881"
      },
      "execution_count": 45,
      "outputs": [
        {
          "output_type": "stream",
          "name": "stderr",
          "text": [
            "/usr/local/lib/python3.7/dist-packages/ipykernel_launcher.py:2: DataConversionWarning: A column-vector y was passed when a 1d array was expected. Please change the shape of y to (n_samples,), for example using ravel().\n",
            "  \n"
          ]
        },
        {
          "output_type": "execute_result",
          "data": {
            "text/plain": [
              "RandomForestClassifier(max_features=7, n_estimators=10000, random_state=1)"
            ]
          },
          "metadata": {},
          "execution_count": 45
        }
      ]
    },
    {
      "cell_type": "code",
      "source": [
        "from sklearn.metrics import recall_score"
      ],
      "metadata": {
        "id": "Im7EPe5CWOx5"
      },
      "execution_count": 10,
      "outputs": []
    },
    {
      "cell_type": "code",
      "source": [
        "pred = estimator.predict(X_test)\n",
        "print(estimator,'\\n',recall_score(y_test, pred, average=\"macro\", zero_division=0))"
      ],
      "metadata": {
        "colab": {
          "base_uri": "https://localhost:8080/"
        },
        "id": "n347o-rxWASJ",
        "outputId": "503c1bc7-f80d-4d29-b25e-b34a84ae95b6"
      },
      "execution_count": 46,
      "outputs": [
        {
          "output_type": "stream",
          "name": "stdout",
          "text": [
            "RandomForestClassifier(max_features=7, n_estimators=10000, random_state=1) \n",
            " 0.9640709729732129\n"
          ]
        }
      ]
    },
    {
      "cell_type": "markdown",
      "source": [
        "# Результат на отправку"
      ],
      "metadata": {
        "id": "_ahOfDCrWr0o"
      }
    },
    {
      "cell_type": "code",
      "source": [
        "# загружаем тестовый датасет\n",
        "df_test = pd.read_csv(\"/content/test_dataset_test.csv\")\n",
        "df_test.sort_index(axis=1, inplace = True)\n",
        "# добавляем столбцы\n",
        "df_test['len'] = 0.0\n",
        "df_test['lot'] = 0.0\n",
        "# Заполняем координаты\n",
        "for i in range(len(df_test)):\n",
        "  df_test['len'][i] = float(df_test['.geo'][i][df_test['.geo'][i].rfind('[')+1:df_test['.geo'][i].rfind(',')-1])\n",
        "  df_test['lot'][i] = float(df_test['.geo'][i][df_test['.geo'][i].rfind(',')+1:df_test['.geo'][i].rfind(']]]')-1])\n",
        "\n",
        "df_nd = df.drop([\"id\",\".geo\", \"len\", \"lot\", \"area\"], axis = 1)\n",
        "\n",
        "df_test.info()"
      ],
      "metadata": {
        "colab": {
          "base_uri": "https://localhost:8080/"
        },
        "id": "W6FzxrpaWzKt",
        "outputId": "1d004dca-3e82-434a-ea5e-6d6f0eeb36b5"
      },
      "execution_count": 47,
      "outputs": [
        {
          "output_type": "stream",
          "name": "stderr",
          "text": [
            "/usr/local/lib/python3.7/dist-packages/ipykernel_launcher.py:9: SettingWithCopyWarning: \n",
            "A value is trying to be set on a copy of a slice from a DataFrame\n",
            "\n",
            "See the caveats in the documentation: https://pandas.pydata.org/pandas-docs/stable/user_guide/indexing.html#returning-a-view-versus-a-copy\n",
            "  if __name__ == '__main__':\n",
            "/usr/local/lib/python3.7/dist-packages/ipykernel_launcher.py:10: SettingWithCopyWarning: \n",
            "A value is trying to be set on a copy of a slice from a DataFrame\n",
            "\n",
            "See the caveats in the documentation: https://pandas.pydata.org/pandas-docs/stable/user_guide/indexing.html#returning-a-view-versus-a-copy\n",
            "  # Remove the CWD from sys.path while we load stuff.\n"
          ]
        },
        {
          "output_type": "stream",
          "name": "stdout",
          "text": [
            "<class 'pandas.core.frame.DataFrame'>\n",
            "RangeIndex: 2071 entries, 0 to 2070\n",
            "Data columns (total 75 columns):\n",
            " #   Column              Non-Null Count  Dtype  \n",
            "---  ------              --------------  -----  \n",
            " 0   .geo                2071 non-null   object \n",
            " 1   area                2071 non-null   int64  \n",
            " 2   id                  2071 non-null   int64  \n",
            " 3   nd_mean_2021-04-15  2071 non-null   float64\n",
            " 4   nd_mean_2021-04-16  2071 non-null   float64\n",
            " 5   nd_mean_2021-04-18  2071 non-null   float64\n",
            " 6   nd_mean_2021-04-19  2071 non-null   float64\n",
            " 7   nd_mean_2021-04-20  2071 non-null   float64\n",
            " 8   nd_mean_2021-04-22  2071 non-null   float64\n",
            " 9   nd_mean_2021-04-23  2071 non-null   float64\n",
            " 10  nd_mean_2021-04-25  2071 non-null   float64\n",
            " 11  nd_mean_2021-04-26  2071 non-null   float64\n",
            " 12  nd_mean_2021-04-27  2071 non-null   float64\n",
            " 13  nd_mean_2021-04-28  2071 non-null   float64\n",
            " 14  nd_mean_2021-04-29  2071 non-null   float64\n",
            " 15  nd_mean_2021-04-30  2071 non-null   float64\n",
            " 16  nd_mean_2021-05-01  2071 non-null   float64\n",
            " 17  nd_mean_2021-05-02  2071 non-null   float64\n",
            " 18  nd_mean_2021-05-03  2071 non-null   float64\n",
            " 19  nd_mean_2021-05-04  2071 non-null   float64\n",
            " 20  nd_mean_2021-05-07  2071 non-null   float64\n",
            " 21  nd_mean_2021-05-08  2071 non-null   float64\n",
            " 22  nd_mean_2021-05-09  2071 non-null   float64\n",
            " 23  nd_mean_2021-05-10  2071 non-null   float64\n",
            " 24  nd_mean_2021-05-15  2071 non-null   float64\n",
            " 25  nd_mean_2021-05-16  2071 non-null   float64\n",
            " 26  nd_mean_2021-05-17  2071 non-null   float64\n",
            " 27  nd_mean_2021-05-19  2071 non-null   float64\n",
            " 28  nd_mean_2021-05-20  2071 non-null   float64\n",
            " 29  nd_mean_2021-05-21  2071 non-null   float64\n",
            " 30  nd_mean_2021-05-24  2071 non-null   float64\n",
            " 31  nd_mean_2021-05-26  2071 non-null   float64\n",
            " 32  nd_mean_2021-05-27  2071 non-null   float64\n",
            " 33  nd_mean_2021-05-29  2071 non-null   float64\n",
            " 34  nd_mean_2021-06-02  2071 non-null   float64\n",
            " 35  nd_mean_2021-06-03  2071 non-null   float64\n",
            " 36  nd_mean_2021-06-04  2071 non-null   float64\n",
            " 37  nd_mean_2021-06-05  2071 non-null   float64\n",
            " 38  nd_mean_2021-06-06  2071 non-null   float64\n",
            " 39  nd_mean_2021-06-07  2071 non-null   float64\n",
            " 40  nd_mean_2021-06-09  2071 non-null   float64\n",
            " 41  nd_mean_2021-06-10  2071 non-null   float64\n",
            " 42  nd_mean_2021-06-12  2071 non-null   float64\n",
            " 43  nd_mean_2021-06-13  2071 non-null   float64\n",
            " 44  nd_mean_2021-06-16  2071 non-null   float64\n",
            " 45  nd_mean_2021-06-18  2071 non-null   float64\n",
            " 46  nd_mean_2021-06-19  2071 non-null   float64\n",
            " 47  nd_mean_2021-06-20  2071 non-null   float64\n",
            " 48  nd_mean_2021-06-22  2071 non-null   float64\n",
            " 49  nd_mean_2021-06-25  2071 non-null   float64\n",
            " 50  nd_mean_2021-06-27  2071 non-null   float64\n",
            " 51  nd_mean_2021-06-28  2071 non-null   float64\n",
            " 52  nd_mean_2021-07-04  2071 non-null   float64\n",
            " 53  nd_mean_2021-07-05  2071 non-null   float64\n",
            " 54  nd_mean_2021-07-07  2071 non-null   float64\n",
            " 55  nd_mean_2021-07-08  2071 non-null   float64\n",
            " 56  nd_mean_2021-07-09  2071 non-null   float64\n",
            " 57  nd_mean_2021-07-13  2071 non-null   float64\n",
            " 58  nd_mean_2021-07-15  2071 non-null   float64\n",
            " 59  nd_mean_2021-07-17  2071 non-null   float64\n",
            " 60  nd_mean_2021-07-20  2071 non-null   float64\n",
            " 61  nd_mean_2021-07-26  2071 non-null   float64\n",
            " 62  nd_mean_2021-07-27  2071 non-null   float64\n",
            " 63  nd_mean_2021-07-29  2071 non-null   float64\n",
            " 64  nd_mean_2021-07-31  2071 non-null   float64\n",
            " 65  nd_mean_2021-08-01  2071 non-null   float64\n",
            " 66  nd_mean_2021-08-07  2071 non-null   float64\n",
            " 67  nd_mean_2021-08-10  2071 non-null   float64\n",
            " 68  nd_mean_2021-08-11  2071 non-null   float64\n",
            " 69  nd_mean_2021-08-12  2071 non-null   float64\n",
            " 70  nd_mean_2021-08-13  2071 non-null   float64\n",
            " 71  nd_mean_2021-08-23  2071 non-null   float64\n",
            " 72  nd_mean_2021-08-27  2071 non-null   float64\n",
            " 73  len                 2071 non-null   float64\n",
            " 74  lot                 2071 non-null   float64\n",
            "dtypes: float64(72), int64(2), object(1)\n",
            "memory usage: 1.2+ MB\n"
          ]
        }
      ]
    },
    {
      "cell_type": "code",
      "source": [
        "  df_test.head(1)"
      ],
      "metadata": {
        "colab": {
          "base_uri": "https://localhost:8080/",
          "height": 209
        },
        "id": "5cXS2tBHYhTK",
        "outputId": "c522b1c9-5135-4e75-e97e-d29a6bc357c1"
      },
      "execution_count": 48,
      "outputs": [
        {
          "output_type": "execute_result",
          "data": {
            "text/plain": [
              "                                                .geo  area   id  \\\n",
              "0  {\"type\":\"Polygon\",\"coordinates\":[[[35.96545926...    26  611   \n",
              "\n",
              "   nd_mean_2021-04-15  nd_mean_2021-04-16  nd_mean_2021-04-18  \\\n",
              "0            0.083038            0.196691            0.244827   \n",
              "\n",
              "   nd_mean_2021-04-19  nd_mean_2021-04-20  nd_mean_2021-04-22  \\\n",
              "0                 0.0            0.241219            0.259303   \n",
              "\n",
              "   nd_mean_2021-04-23  ...  nd_mean_2021-08-01  nd_mean_2021-08-07  \\\n",
              "0            0.064947  ...            0.593911                 0.0   \n",
              "\n",
              "   nd_mean_2021-08-10  nd_mean_2021-08-11  nd_mean_2021-08-12  \\\n",
              "0                 0.0            0.192016             0.16484   \n",
              "\n",
              "   nd_mean_2021-08-13  nd_mean_2021-08-23  nd_mean_2021-08-27        len  \\\n",
              "0            0.714292             0.06503            0.084197  35.965459   \n",
              "\n",
              "         lot  \n",
              "0  52.383788  \n",
              "\n",
              "[1 rows x 75 columns]"
            ],
            "text/html": [
              "\n",
              "  <div id=\"df-82f25c40-f5ff-4230-8c10-db7543ce0108\">\n",
              "    <div class=\"colab-df-container\">\n",
              "      <div>\n",
              "<style scoped>\n",
              "    .dataframe tbody tr th:only-of-type {\n",
              "        vertical-align: middle;\n",
              "    }\n",
              "\n",
              "    .dataframe tbody tr th {\n",
              "        vertical-align: top;\n",
              "    }\n",
              "\n",
              "    .dataframe thead th {\n",
              "        text-align: right;\n",
              "    }\n",
              "</style>\n",
              "<table border=\"1\" class=\"dataframe\">\n",
              "  <thead>\n",
              "    <tr style=\"text-align: right;\">\n",
              "      <th></th>\n",
              "      <th>.geo</th>\n",
              "      <th>area</th>\n",
              "      <th>id</th>\n",
              "      <th>nd_mean_2021-04-15</th>\n",
              "      <th>nd_mean_2021-04-16</th>\n",
              "      <th>nd_mean_2021-04-18</th>\n",
              "      <th>nd_mean_2021-04-19</th>\n",
              "      <th>nd_mean_2021-04-20</th>\n",
              "      <th>nd_mean_2021-04-22</th>\n",
              "      <th>nd_mean_2021-04-23</th>\n",
              "      <th>...</th>\n",
              "      <th>nd_mean_2021-08-01</th>\n",
              "      <th>nd_mean_2021-08-07</th>\n",
              "      <th>nd_mean_2021-08-10</th>\n",
              "      <th>nd_mean_2021-08-11</th>\n",
              "      <th>nd_mean_2021-08-12</th>\n",
              "      <th>nd_mean_2021-08-13</th>\n",
              "      <th>nd_mean_2021-08-23</th>\n",
              "      <th>nd_mean_2021-08-27</th>\n",
              "      <th>len</th>\n",
              "      <th>lot</th>\n",
              "    </tr>\n",
              "  </thead>\n",
              "  <tbody>\n",
              "    <tr>\n",
              "      <th>0</th>\n",
              "      <td>{\"type\":\"Polygon\",\"coordinates\":[[[35.96545926...</td>\n",
              "      <td>26</td>\n",
              "      <td>611</td>\n",
              "      <td>0.083038</td>\n",
              "      <td>0.196691</td>\n",
              "      <td>0.244827</td>\n",
              "      <td>0.0</td>\n",
              "      <td>0.241219</td>\n",
              "      <td>0.259303</td>\n",
              "      <td>0.064947</td>\n",
              "      <td>...</td>\n",
              "      <td>0.593911</td>\n",
              "      <td>0.0</td>\n",
              "      <td>0.0</td>\n",
              "      <td>0.192016</td>\n",
              "      <td>0.16484</td>\n",
              "      <td>0.714292</td>\n",
              "      <td>0.06503</td>\n",
              "      <td>0.084197</td>\n",
              "      <td>35.965459</td>\n",
              "      <td>52.383788</td>\n",
              "    </tr>\n",
              "  </tbody>\n",
              "</table>\n",
              "<p>1 rows × 75 columns</p>\n",
              "</div>\n",
              "      <button class=\"colab-df-convert\" onclick=\"convertToInteractive('df-82f25c40-f5ff-4230-8c10-db7543ce0108')\"\n",
              "              title=\"Convert this dataframe to an interactive table.\"\n",
              "              style=\"display:none;\">\n",
              "        \n",
              "  <svg xmlns=\"http://www.w3.org/2000/svg\" height=\"24px\"viewBox=\"0 0 24 24\"\n",
              "       width=\"24px\">\n",
              "    <path d=\"M0 0h24v24H0V0z\" fill=\"none\"/>\n",
              "    <path d=\"M18.56 5.44l.94 2.06.94-2.06 2.06-.94-2.06-.94-.94-2.06-.94 2.06-2.06.94zm-11 1L8.5 8.5l.94-2.06 2.06-.94-2.06-.94L8.5 2.5l-.94 2.06-2.06.94zm10 10l.94 2.06.94-2.06 2.06-.94-2.06-.94-.94-2.06-.94 2.06-2.06.94z\"/><path d=\"M17.41 7.96l-1.37-1.37c-.4-.4-.92-.59-1.43-.59-.52 0-1.04.2-1.43.59L10.3 9.45l-7.72 7.72c-.78.78-.78 2.05 0 2.83L4 21.41c.39.39.9.59 1.41.59.51 0 1.02-.2 1.41-.59l7.78-7.78 2.81-2.81c.8-.78.8-2.07 0-2.86zM5.41 20L4 18.59l7.72-7.72 1.47 1.35L5.41 20z\"/>\n",
              "  </svg>\n",
              "      </button>\n",
              "      \n",
              "  <style>\n",
              "    .colab-df-container {\n",
              "      display:flex;\n",
              "      flex-wrap:wrap;\n",
              "      gap: 12px;\n",
              "    }\n",
              "\n",
              "    .colab-df-convert {\n",
              "      background-color: #E8F0FE;\n",
              "      border: none;\n",
              "      border-radius: 50%;\n",
              "      cursor: pointer;\n",
              "      display: none;\n",
              "      fill: #1967D2;\n",
              "      height: 32px;\n",
              "      padding: 0 0 0 0;\n",
              "      width: 32px;\n",
              "    }\n",
              "\n",
              "    .colab-df-convert:hover {\n",
              "      background-color: #E2EBFA;\n",
              "      box-shadow: 0px 1px 2px rgba(60, 64, 67, 0.3), 0px 1px 3px 1px rgba(60, 64, 67, 0.15);\n",
              "      fill: #174EA6;\n",
              "    }\n",
              "\n",
              "    [theme=dark] .colab-df-convert {\n",
              "      background-color: #3B4455;\n",
              "      fill: #D2E3FC;\n",
              "    }\n",
              "\n",
              "    [theme=dark] .colab-df-convert:hover {\n",
              "      background-color: #434B5C;\n",
              "      box-shadow: 0px 1px 3px 1px rgba(0, 0, 0, 0.15);\n",
              "      filter: drop-shadow(0px 1px 2px rgba(0, 0, 0, 0.3));\n",
              "      fill: #FFFFFF;\n",
              "    }\n",
              "  </style>\n",
              "\n",
              "      <script>\n",
              "        const buttonEl =\n",
              "          document.querySelector('#df-82f25c40-f5ff-4230-8c10-db7543ce0108 button.colab-df-convert');\n",
              "        buttonEl.style.display =\n",
              "          google.colab.kernel.accessAllowed ? 'block' : 'none';\n",
              "\n",
              "        async function convertToInteractive(key) {\n",
              "          const element = document.querySelector('#df-82f25c40-f5ff-4230-8c10-db7543ce0108');\n",
              "          const dataTable =\n",
              "            await google.colab.kernel.invokeFunction('convertToInteractive',\n",
              "                                                     [key], {});\n",
              "          if (!dataTable) return;\n",
              "\n",
              "          const docLinkHtml = 'Like what you see? Visit the ' +\n",
              "            '<a target=\"_blank\" href=https://colab.research.google.com/notebooks/data_table.ipynb>data table notebook</a>'\n",
              "            + ' to learn more about interactive tables.';\n",
              "          element.innerHTML = '';\n",
              "          dataTable['output_type'] = 'display_data';\n",
              "          await google.colab.output.renderOutput(dataTable, element);\n",
              "          const docLink = document.createElement('div');\n",
              "          docLink.innerHTML = docLinkHtml;\n",
              "          element.appendChild(docLink);\n",
              "        }\n",
              "      </script>\n",
              "    </div>\n",
              "  </div>\n",
              "  "
            ]
          },
          "metadata": {},
          "execution_count": 48
        }
      ]
    },
    {
      "cell_type": "code",
      "source": [
        "# получаем предсказания\n",
        "X_test = df_test.drop([\"id\",\".geo\"], axis = 1)\n",
        "#X_test = preprocessing.normalize(X_test)\n",
        "pred_test = estimator.predict(X_test)"
      ],
      "metadata": {
        "id": "f1CMtvzDYm0g"
      },
      "execution_count": 49,
      "outputs": []
    },
    {
      "cell_type": "code",
      "source": [
        "len(pred_test)"
      ],
      "metadata": {
        "colab": {
          "base_uri": "https://localhost:8080/"
        },
        "id": "VdvvCNGK9lVm",
        "outputId": "4364f04c-c518-48cd-d5e3-918c8f0f8433"
      },
      "execution_count": 50,
      "outputs": [
        {
          "output_type": "execute_result",
          "data": {
            "text/plain": [
              "2071"
            ]
          },
          "metadata": {},
          "execution_count": 50
        }
      ]
    },
    {
      "cell_type": "code",
      "source": [
        "# Записываем файл\n",
        "df_result = df_test.loc[:,[\"id\"]]\n",
        "df_result['crop'] = pred_test\n",
        "df_result.to_csv('/content/solution.csv', index = False)"
      ],
      "metadata": {
        "id": "lg2CW7eLZUHr"
      },
      "execution_count": 51,
      "outputs": []
    }
  ]
}